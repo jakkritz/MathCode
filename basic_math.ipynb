{
 "cells": [
  {
   "cell_type": "markdown",
   "metadata": {},
   "source": [
    "- *s* - italic lowercase letters for scalars (e.g. a number)\n",
    "- **x** - bold lowercase letters for vectors (e.g. a 2D point)\n",
    "- **A** - bold uppercase letters for matrices (e.g. a 3D transformation)\n",
    "- *θ* - italic lowercase Greek letters for constants and special variables (e.g. [polar angle *θ*, *theta*](https://en.wikipedia.org/wiki/Spherical_coordinate_system))\n",
    "\n",
    "- `:=` is for definition (A is defined as B)\n",
    "\n",
    "https://github.com/Jam3/math-as-code/blob/master/PYTHON-README.md#variable-name-conventions"
   ]
  },
  {
   "cell_type": "code",
   "execution_count": 1,
   "metadata": {},
   "outputs": [
    {
     "data": {
      "text/plain": [
       "False"
      ]
     },
     "execution_count": 1,
     "metadata": {},
     "output_type": "execute_result"
    }
   ],
   "source": [
    "import math\n",
    "\n",
    "math.isclose(math.pi, 3.14159)"
   ]
  },
  {
   "cell_type": "code",
   "execution_count": 6,
   "metadata": {},
   "outputs": [
    {
     "name": "stdout",
     "output_type": "stream",
     "text": [
      "None\n"
     ]
    }
   ],
   "source": [
    "import numpy as np\n",
    "from numpy.testing import assert_almost_equal\n",
    "\n",
    "print(assert_almost_equal(math.pi, 3.14159, 1e-5))"
   ]
  },
  {
   "cell_type": "markdown",
   "metadata": {},
   "source": [
    "![equals1](http://latex.codecogs.com/svg.latex?x%20%3A%3D%202kj)\n",
    "\n",
    "<!-- x := 2kj -->"
   ]
  },
  {
   "cell_type": "markdown",
   "metadata": {},
   "source": [
    "> **Read more**: programmers got this idea from the [epsilon-delta definition of limit][1]\n",
    "\n",
    "**Note**: subclasses of [`unittest.TestCase`](https://docs.python.org/3/library/unittest.html) come with their own `assertAlmostEqual`.\n",
    "\n",
    "**Warning**: *please* don't use exact `==` equality on floats! \n",
    "\n",
    "In mathematical notation, you might see the `:=`, `=:` and `=` symbols being used for *definition*.<sup>[2]</sup>\n",
    "\n",
    "For example, the following defines *x* to be another name for 2*kj*.\n",
    "\n",
    "![equals1](http://latex.codecogs.com/svg.latex?x%20%3A%3D%202kj)\n",
    "\n",
    "<!-- x := 2kj -->\n"
   ]
  },
  {
   "cell_type": "code",
   "execution_count": 13,
   "metadata": {},
   "outputs": [],
   "source": [
    "# in code we can say\n",
    "k, j = 1, 1\n",
    "x = 2 * k * j"
   ]
  },
  {
   "cell_type": "code",
   "execution_count": 14,
   "metadata": {},
   "outputs": [
    {
     "data": {
      "text/plain": [
       "7"
      ]
     },
     "execution_count": 14,
     "metadata": {},
     "output_type": "execute_result"
    }
   ],
   "source": [
    "# := looks like python def as well\n",
    "\n",
    "def plus(x, y):\n",
    "    return x + y\n",
    "\n",
    "plus(x, 5)"
   ]
  },
  {
   "cell_type": "markdown",
   "metadata": {},
   "source": [
    "# square root and complex numbers"
   ]
  },
  {
   "cell_type": "code",
   "execution_count": 15,
   "metadata": {},
   "outputs": [
    {
     "name": "stdout",
     "output_type": "stream",
     "text": [
      "1.4142135623730951\n",
      "1.4142135623730951\n"
     ]
    }
   ],
   "source": [
    "print(math.sqrt(2))\n",
    "print(np.sqrt(2))"
   ]
  },
  {
   "cell_type": "markdown",
   "metadata": {},
   "source": [
    "Complex numbers are expressions of the form ![complex](http://latex.codecogs.com/svg.latex?a&space;&plus;&space;ib), \n",
    "\n",
    "- where ![a](http://latex.codecogs.com/svg.latex?a) is the real part and \n",
    "- ![b](http://latex.codecogs.com/svg.latex?b) is the imaginary part. \n",
    "- The imaginary number ![i](http://latex.codecogs.com/svg.latex?i) is defined as:\n",
    "\n",
    "![imaginary](http://latex.codecogs.com/svg.latex?i%3D%5Csqrt%7B-1%7D).\n",
    "<!-- i=\\sqrt{-1} -->\n",
    "\n",
    "Vanilla python has a `complex` constructor, and a standard module `cmath` for working with them. "
   ]
  },
  {
   "cell_type": "code",
   "execution_count": 16,
   "metadata": {},
   "outputs": [
    {
     "data": {
      "text/plain": [
       "(1+1j)"
      ]
     },
     "execution_count": 16,
     "metadata": {},
     "output_type": "execute_result"
    }
   ],
   "source": [
    "complex(1,1)"
   ]
  },
  {
   "cell_type": "code",
   "execution_count": 18,
   "metadata": {},
   "outputs": [
    {
     "data": {
      "text/plain": [
       "(1.09868411346781+0.45508986056222733j)"
      ]
     },
     "execution_count": 18,
     "metadata": {},
     "output_type": "execute_result"
    }
   ],
   "source": [
    "import cmath\n",
    "cmath.sqrt(complex(1,1))"
   ]
  },
  {
   "cell_type": "code",
   "execution_count": 20,
   "metadata": {},
   "outputs": [
    {
     "data": {
      "text/plain": [
       "(1-1j)"
      ]
     },
     "execution_count": 20,
     "metadata": {},
     "output_type": "execute_result"
    }
   ],
   "source": [
    "# The conjugate of a complex number is flipping the sign of the imaginary part.\n",
    "np.conj(complex(1,1))"
   ]
  },
  {
   "cell_type": "code",
   "execution_count": 22,
   "metadata": {},
   "outputs": [
    {
     "name": "stdout",
     "output_type": "stream",
     "text": [
      "4.0\n",
      "5.0\n"
     ]
    }
   ],
   "source": [
    "z = complex(4,5)\n",
    "print(z.real)\n",
    "print(z.imag)"
   ]
  },
  {
   "cell_type": "code",
   "execution_count": 24,
   "metadata": {},
   "outputs": [],
   "source": [
    "z1 = 0.5 * np.complex(-1, math.sqrt(3)) # Numpy's constructor is basically the same.  \n",
    "z2 = np.conj(z1) # but numpy gives us a conjugation function, while the standard module does not. \n",
    "\n",
    "# assert math.isclose(z1**3, z2**3)\n",
    "# TypeError: can't convert complex to float\n",
    "\n",
    "np.testing.assert_almost_equal(z1**3, z2**3)"
   ]
  },
  {
   "cell_type": "code",
   "execution_count": null,
   "metadata": {},
   "outputs": [],
   "source": []
  }
 ],
 "metadata": {
  "kernelspec": {
   "display_name": "FastBook ENV",
   "language": "python",
   "name": "fastbook"
  },
  "language_info": {
   "codemirror_mode": {
    "name": "ipython",
    "version": 3
   },
   "file_extension": ".py",
   "mimetype": "text/x-python",
   "name": "python",
   "nbconvert_exporter": "python",
   "pygments_lexer": "ipython3",
   "version": "3.8.2"
  }
 },
 "nbformat": 4,
 "nbformat_minor": 4
}
